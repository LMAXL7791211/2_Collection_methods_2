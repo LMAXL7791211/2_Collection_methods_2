{
 "cells": [
  {
   "cell_type": "markdown",
   "metadata": {},
   "source": [
    "#### 2. Изучить список открытых API. Найти среди них любое, требующее авторизацию (любого типа). Выполнить запросы к нему, пройдя авторизацию. Ответ сервера записать в файл."
   ]
  },
  {
   "cell_type": "markdown",
   "metadata": {},
   "source": [
    "Взял из списка российский сервис Tisane по обработке языка:\n",
    "https://www.programmableweb.com/api/tisane-labs-language-model\n",
    "\n",
    "У них есть API для анализа текста:\n",
    "\n",
    "https://dev.tisane.ai/docs/services/5a3b6668a3511b11cc292655/operations/5a4c8182a3511b120c2e80bd?\n",
    "\n",
    "И в этом API я использую команду, выводящую список языков, который этот сервис может обрабатывать.\n",
    "\n",
    "Прошел базовую авторизацию, получил ключ."
   ]
  },
  {
   "cell_type": "markdown",
   "metadata": {},
   "source": [
    "Запускаем curl:"
   ]
  },
  {
   "cell_type": "code",
   "execution_count": 1,
   "metadata": {},
   "outputs": [
    {
     "name": "stdout",
     "output_type": "stream",
     "text": [
      "[{\"id\":\"ar\",\"name\":\"Ш§Щ„Ш№Ш±ШЁЩЉШ©\",\"englishName\":\"Arabic\",\"nativeEncoding\":\"iso-8859-6\",\"preferredFont\":\"Arial\",\"latin\":false,\"rightToLeft\":true},{\"id\":\"da\",\"name\":\"Dansk\",\"englishName\":\"Danish\",\"nativeEncoding\":\"iso-8859-1\",\"preferredFont\":\"Calibri\",\"latin\":true},{\"id\":\"de\",\"name\":\"Deutsch\",\"englishName\":\"German\",\"nativeEncoding\":\"iso-8859-1\",\"preferredFont\":\"Calibri\",\"latin\":true},{\"id\":\"en\",\"name\":\"English\",\"englishName\":\"English\",\"nativeEncoding\":\"iso-8859-1\",\"preferredFont\":\"Arial\",\"systemLanguage\":true,\"latin\":true},{\"id\":\"es\",\"name\":\"EspaГ±ol\",\"englishName\":\"Spanish\",\"nativeEncoding\":\"iso-8859-1\",\"preferredFont\":\"Verdana\",\"latin\":true},{\"id\":\"fa\",\"name\":\"ЩЃШ§Ш±ШіЩЉ\",\"englishName\":\"Persian\",\"nativeEncoding\":\"iso-8859-6\",\"preferredFont\":\"Arial\",\"latin\":false,\"rightToLeft\":true},{\"id\":\"fi\",\"name\":\"suomi\",\"englishName\":\"Finnish\",\"nativeEncoding\":\"iso-8859-1\",\"preferredFont\":\"Berlin Sans FB\",\"latin\":true},{\"id\":\"fr\",\"name\":\"FranГ§ais\",\"englishName\":\"French\",\"nativeEncoding\":\"iso-8859-1\",\"preferredFont\":\"Arial\",\"latin\":true},{\"id\":\"he\",\"name\":\"ЧўЧ‘ЧЁЧ™ЧЄ\",\"englishName\":\"Hebrew\",\"nativeEncoding\":\"iso-8859-8\",\"preferredFont\":\"Courier New\",\"latin\":false,\"rightToLeft\":true},{\"id\":\"hi\",\"name\":\"а¤№а¤їа¤ЁаҐЌа¤¦аҐЂ\",\"englishName\":\"Hindi\",\"nativeEncoding\":\"utf-8\",\"preferredFont\":\"\",\"latin\":false},{\"id\":\"id\",\"name\":\"Bahasa Indonesia\",\"englishName\":\"Indonesian\",\"nativeEncoding\":\"iso-8859-1\",\"preferredFont\":\"Book Antiqua\",\"latin\":true},{\"id\":\"it\",\"name\":\"Italiano\",\"englishName\":\"Italian\",\"nativeEncoding\":\"iso-8859-1\",\"preferredFont\":\"Book Antiqua\",\"latin\":true},{\"id\":\"ja\",\"name\":\"ж—Ґжњ¬иЄћ\",\"englishName\":\"Japanese\",\"nativeEncoding\":\"ISO-2022\",\"preferredFont\":\"MS Mincho\",\"latin\":false},{\"id\":\"ko\",\"name\":\"н•њкµ­м–ґ\",\"englishName\":\"Korean\",\"nativeEncoding\":\"EUC-KR\",\"preferredFont\":\"Arial Narrow\",\"latin\":false},{\"id\":\"ms\",\"name\":\"Bahasa Melayu\",\"englishName\":\"Malay\",\"nativeEncoding\":\"iso-8859-1\",\"preferredFont\":\"Calibri\",\"latin\":true},{\"id\":\"nl\",\"name\":\"Nederlands\",\"englishName\":\"Dutch\",\"nativeEncoding\":\"iso-8859-1\",\"preferredFont\":\"Arial\",\"latin\":true},{\"id\":\"no\",\"name\":\"Norsk\",\"englishName\":\"Norwegian\",\"nativeEncoding\":\"iso-8859-1\",\"preferredFont\":\"Book Antiqua\",\"latin\":true},{\"id\":\"pl\",\"name\":\"Polski\",\"englishName\":\"Polish\",\"nativeEncoding\":\"iso-8859-2\",\"preferredFont\":\"Arial\",\"latin\":true},{\"id\":\"ps-AF\",\"name\":\"ЩѕЪљШЄЩ€\",\"englishName\":\"Pashto\",\"nativeEncoding\":\"iso-8859-6\",\"preferredFont\":\"Pashto Kror Asiatype\",\"latin\":false,\"rightToLeft\":true},{\"id\":\"pt\",\"name\":\"PortuguГЄs\",\"englishName\":\"Portuguese\",\"nativeEncoding\":\"iso-8859-1\",\"preferredFont\":\"Book Antiqua\",\"latin\":true},{\"id\":\"ru\",\"name\":\"СЂСѓСЃСЃРєРёР№\",\"englishName\":\"Russian\",\"nativeEncoding\":\"iso-8859-5\",\"preferredFont\":\"Verdana\",\"latin\":false},{\"id\":\"sv\",\"name\":\"Svenska\",\"englishName\":\"Swedish\",\"nativeEncoding\":\"iso-8859-1\",\"preferredFont\":\"Lucida Console\",\"latin\":true},{\"id\":\"ta\",\"name\":\"а®¤а®®а®їа®ґаЇЌ\",\"englishName\":\"Tamil\",\"nativeEncoding\":\"utf-8\",\"preferredFont\":\"\",\"latin\":false},{\"id\":\"th\",\"name\":\"а№„аё—аёў\",\"englishName\":\"Thai\",\"nativeEncoding\":\"iso-8859-11\",\"preferredFont\":\"Tahoma\",\"latin\":false},{\"id\":\"tr\",\"name\":\"TГјrkГ§e\",\"englishName\":\"Turkish\",\"nativeEncoding\":\"iso-8859-9\",\"preferredFont\":\"Arial\",\"latin\":true},{\"id\":\"ur\",\"name\":\"Ш§Ш±ШЇЩ€\",\"englishName\":\"Urdu\",\"nativeEncoding\":\"iso-8859-6\",\"preferredFont\":\"Arial\",\"latin\":false,\"rightToLeft\":true},{\"id\":\"vi\",\"name\":\"Tiбєїng Viб»‡t\",\"englishName\":\"Vietnamese\",\"nativeEncoding\":\"iso-8859-1\",\"preferredFont\":\"Arial\",\"latin\":true},{\"id\":\"yue\",\"name\":\"е»Јжќ±и©±\",\"englishName\":\"Cantonese\",\"nativeEncoding\":\"gb18030\",\"preferredFont\":\"Arial Unicode MS\",\"latin\":false},{\"id\":\"zh-CN\",\"name\":\"з®ЂдЅ“дё­ж–‡\",\"englishName\":\"Simplified Chinese\",\"nativeEncoding\":\"gb18030\",\"preferredFont\":\"NSimSun\",\"latin\":false},{\"id\":\"zh-TW\",\"name\":\"з№Ѓй«”дё­ж–‡\",\"englishName\":\"Traditional Chinese\",\"nativeEncoding\":\"utf-8\",\"preferredFont\":\"Arial Unicode MS\",\"latin\":false}]\n"
     ]
    },
    {
     "name": "stderr",
     "output_type": "stream",
     "text": [
      "  % Total    % Received % Xferd  Average Speed   Time    Time     Time  Current\n",
      "                                 Dload  Upload   Total   Spent    Left  Speed\n",
      "\n",
      "  0     0    0     0    0     0      0      0 --:--:-- --:--:-- --:--:--     0\n",
      "  0     0    0     0    0     0      0      0 --:--:-- --:--:-- --:--:--     0\n",
      "  0     0    0     0    0     0      0      0 --:--:--  0:00:01 --:--:--     0\n",
      "  0     0    0     0    0     0      0      0 --:--:--  0:00:02 --:--:--     0\n",
      "  0     0    0     0    0     0      0      0 --:--:--  0:00:03 --:--:--     0* Could not resolve host: GET\n",
      "* Closing connection 0\n",
      "curl: (6) Could not resolve host: GET\n",
      "*   Trying 20.188.97.237...\n",
      "* TCP_NODELAY set\n",
      "\n",
      "  0     0    0     0    0     0      0      0 --:--:-- --:--:-- --:--:--     0* Connected to api.tisane.ai (20.188.97.237) port 443 (#1)\n",
      "* schannel: SSL/TLS connection with api.tisane.ai port 443 (step 1/3)\n",
      "* schannel: checking server certificate revocation\n",
      "* schannel: sending initial handshake data: sending 178 bytes...\n",
      "* schannel: sent initial handshake data: sent 178 bytes\n",
      "* schannel: SSL/TLS connection with api.tisane.ai port 443 (step 2/3)\n",
      "* schannel: failed to receive handshake, need more data\n",
      "* schannel: SSL/TLS connection with api.tisane.ai port 443 (step 2/3)\n",
      "* schannel: encrypted data got 2840\n",
      "* schannel: encrypted data buffer: offset 2840 length 4096\n",
      "* schannel: received incomplete message, need more data\n",
      "* schannel: SSL/TLS connection with api.tisane.ai port 443 (step 2/3)\n",
      "* schannel: encrypted data got 547\n",
      "* schannel: encrypted data buffer: offset 3387 length 4096\n",
      "* schannel: sending next handshake data: sending 158 bytes...\n",
      "* schannel: SSL/TLS connection with api.tisane.ai port 443 (step 2/3)\n",
      "* schannel: encrypted data got 326\n",
      "* schannel: encrypted data buffer: offset 326 length 4096\n",
      "* schannel: SSL/TLS handshake complete\n",
      "* schannel: SSL/TLS connection with api.tisane.ai port 443 (step 3/3)\n",
      "* schannel: stored credential handle in session cache\n",
      "> GET /languages HTTP/1.1\n",
      "\n",
      "> Host: api.tisane.ai\n",
      "\n",
      "> User-Agent: curl/7.63.0\n",
      "\n",
      "> Accept: */*\n",
      "\n",
      "> Ocp-Apim-Subscription-Key: dfe7af659d5746aba683926252f9c073\n",
      "\n",
      "> \n",
      "\n",
      "* schannel: client wants to read 102400 bytes\n",
      "* schannel: encdata_buffer resized 103424\n",
      "* schannel: encrypted data buffer: offset 0 length 103424\n",
      "* schannel: encrypted data got 2840\n",
      "* schannel: encrypted data buffer: offset 2840 length 103424\n",
      "* schannel: failed to decrypt data, need more data\n",
      "* schannel: schannel_recv cleanup\n",
      "* schannel: client wants to read 102400 bytes\n",
      "* schannel: encrypted data buffer: offset 2840 length 103424\n",
      "* schannel: encrypted data got 1218\n",
      "* schannel: encrypted data buffer: offset 4058 length 103424\n",
      "* schannel: decrypted data length: 4029\n",
      "* schannel: decrypted data added: 4029\n",
      "* schannel: decrypted data cached: offset 4029 length 102400\n",
      "* schannel: encrypted data buffer: offset 0 length 103424\n",
      "* schannel: decrypted data buffer: offset 4029 length 102400\n",
      "* schannel: schannel_recv cleanup\n",
      "* schannel: decrypted data returned 4029\n",
      "* schannel: decrypted data buffer: offset 0 length 102400\n",
      "< HTTP/1.1 200 OK\n",
      "\n",
      "< Content-Length: 3919\n",
      "\n",
      "< Content-Type: application/json\n",
      "\n",
      "< Date: Sun, 15 Sep 2019 09:41:51 GMT\n",
      "\n",
      "< \n",
      "\n",
      "{ [3919 bytes data]\n",
      "\n",
      "100  3919  100  3919    0     0   3582      0  0:00:01  0:00:01 --:--:--  4398\n",
      "* Connection #1 to host api.tisane.ai left intact\n"
     ]
    }
   ],
   "source": [
    "!curl -v GET \"https://api.tisane.ai/languages\" -H \"Ocp-Apim-Subscription-Key: dfe7af659d5746aba683926252f9c073\""
   ]
  },
  {
   "cell_type": "markdown",
   "metadata": {},
   "source": [
    "\"Улучшаем\" вывод curl:"
   ]
  },
  {
   "cell_type": "code",
   "execution_count": 2,
   "metadata": {},
   "outputs": [],
   "source": [
    "import uuid\n",
    "from IPython.display import display_javascript, display_html, display\n",
    "import json\n",
    "\n",
    "class RenderJSON(object):\n",
    "    def __init__(self, json_data):\n",
    "        if isinstance(json_data, dict):\n",
    "            self.json_str = json.dumps(json_data)\n",
    "        else:\n",
    "            self.json_str = json_data\n",
    "        self.uuid = str(uuid.uuid4())\n",
    "\n",
    "    def _ipython_display_(self):\n",
    "        display_html('<div id=\"{}\" style=\"height: 600px; width:100%;\"></div>'.format(self.uuid), raw=True)\n",
    "        display_javascript(\"\"\"\n",
    "        require([\"https://rawgit.com/caldwell/renderjson/master/renderjson.js\"], function() {\n",
    "        document.getElementById('%s').appendChild(renderjson(%s))\n",
    "        });\n",
    "        \"\"\" % (self.uuid, self.json_str), raw=True)"
   ]
  },
  {
   "cell_type": "code",
   "execution_count": 3,
   "metadata": {},
   "outputs": [],
   "source": [
    "import subprocess\n",
    "output_curl = subprocess.check_output('curl -v GET \"https://api.tisane.ai/languages\" -H \"Ocp-Apim-Subscription-Key: dfe7af659d5746aba683926252f9c073\"')\n",
    "output_curl_json = json.dumps(json.loads(output_curl.decode(\"utf-8\")))"
   ]
  },
  {
   "cell_type": "code",
   "execution_count": 4,
   "metadata": {
    "scrolled": true
   },
   "outputs": [
    {
     "data": {
      "text/html": [
       "<div id=\"b9e4a5b2-1c88-4149-9a56-789737487fc8\" style=\"height: 600px; width:100%;\"></div>"
      ]
     },
     "metadata": {},
     "output_type": "display_data"
    },
    {
     "data": {
      "application/javascript": [
       "\n",
       "        require([\"https://rawgit.com/caldwell/renderjson/master/renderjson.js\"], function() {\n",
       "        document.getElementById('b9e4a5b2-1c88-4149-9a56-789737487fc8').appendChild(renderjson([{\"id\": \"ar\", \"name\": \"\\u0627\\u0644\\u0639\\u0631\\u0628\\u064a\\u0629\", \"englishName\": \"Arabic\", \"nativeEncoding\": \"iso-8859-6\", \"preferredFont\": \"Arial\", \"latin\": false, \"rightToLeft\": true}, {\"id\": \"da\", \"name\": \"Dansk\", \"englishName\": \"Danish\", \"nativeEncoding\": \"iso-8859-1\", \"preferredFont\": \"Calibri\", \"latin\": true}, {\"id\": \"de\", \"name\": \"Deutsch\", \"englishName\": \"German\", \"nativeEncoding\": \"iso-8859-1\", \"preferredFont\": \"Calibri\", \"latin\": true}, {\"id\": \"en\", \"name\": \"English\", \"englishName\": \"English\", \"nativeEncoding\": \"iso-8859-1\", \"preferredFont\": \"Arial\", \"systemLanguage\": true, \"latin\": true}, {\"id\": \"es\", \"name\": \"Espa\\u00f1ol\", \"englishName\": \"Spanish\", \"nativeEncoding\": \"iso-8859-1\", \"preferredFont\": \"Verdana\", \"latin\": true}, {\"id\": \"fa\", \"name\": \"\\u0641\\u0627\\u0631\\u0633\\u064a\", \"englishName\": \"Persian\", \"nativeEncoding\": \"iso-8859-6\", \"preferredFont\": \"Arial\", \"latin\": false, \"rightToLeft\": true}, {\"id\": \"fi\", \"name\": \"suomi\", \"englishName\": \"Finnish\", \"nativeEncoding\": \"iso-8859-1\", \"preferredFont\": \"Berlin Sans FB\", \"latin\": true}, {\"id\": \"fr\", \"name\": \"Fran\\u00e7ais\", \"englishName\": \"French\", \"nativeEncoding\": \"iso-8859-1\", \"preferredFont\": \"Arial\", \"latin\": true}, {\"id\": \"he\", \"name\": \"\\u05e2\\u05d1\\u05e8\\u05d9\\u05ea\", \"englishName\": \"Hebrew\", \"nativeEncoding\": \"iso-8859-8\", \"preferredFont\": \"Courier New\", \"latin\": false, \"rightToLeft\": true}, {\"id\": \"hi\", \"name\": \"\\u0939\\u093f\\u0928\\u094d\\u0926\\u0940\", \"englishName\": \"Hindi\", \"nativeEncoding\": \"utf-8\", \"preferredFont\": \"\", \"latin\": false}, {\"id\": \"id\", \"name\": \"Bahasa Indonesia\", \"englishName\": \"Indonesian\", \"nativeEncoding\": \"iso-8859-1\", \"preferredFont\": \"Book Antiqua\", \"latin\": true}, {\"id\": \"it\", \"name\": \"Italiano\", \"englishName\": \"Italian\", \"nativeEncoding\": \"iso-8859-1\", \"preferredFont\": \"Book Antiqua\", \"latin\": true}, {\"id\": \"ja\", \"name\": \"\\u65e5\\u672c\\u8a9e\", \"englishName\": \"Japanese\", \"nativeEncoding\": \"ISO-2022\", \"preferredFont\": \"MS Mincho\", \"latin\": false}, {\"id\": \"ko\", \"name\": \"\\ud55c\\uad6d\\uc5b4\", \"englishName\": \"Korean\", \"nativeEncoding\": \"EUC-KR\", \"preferredFont\": \"Arial Narrow\", \"latin\": false}, {\"id\": \"ms\", \"name\": \"Bahasa Melayu\", \"englishName\": \"Malay\", \"nativeEncoding\": \"iso-8859-1\", \"preferredFont\": \"Calibri\", \"latin\": true}, {\"id\": \"nl\", \"name\": \"Nederlands\", \"englishName\": \"Dutch\", \"nativeEncoding\": \"iso-8859-1\", \"preferredFont\": \"Arial\", \"latin\": true}, {\"id\": \"no\", \"name\": \"Norsk\", \"englishName\": \"Norwegian\", \"nativeEncoding\": \"iso-8859-1\", \"preferredFont\": \"Book Antiqua\", \"latin\": true}, {\"id\": \"pl\", \"name\": \"Polski\", \"englishName\": \"Polish\", \"nativeEncoding\": \"iso-8859-2\", \"preferredFont\": \"Arial\", \"latin\": true}, {\"id\": \"ps-AF\", \"name\": \"\\u067e\\u069a\\u062a\\u0648\", \"englishName\": \"Pashto\", \"nativeEncoding\": \"iso-8859-6\", \"preferredFont\": \"Pashto Kror Asiatype\", \"latin\": false, \"rightToLeft\": true}, {\"id\": \"pt\", \"name\": \"Portugu\\u00eas\", \"englishName\": \"Portuguese\", \"nativeEncoding\": \"iso-8859-1\", \"preferredFont\": \"Book Antiqua\", \"latin\": true}, {\"id\": \"ru\", \"name\": \"\\u0440\\u0443\\u0441\\u0441\\u043a\\u0438\\u0439\", \"englishName\": \"Russian\", \"nativeEncoding\": \"iso-8859-5\", \"preferredFont\": \"Verdana\", \"latin\": false}, {\"id\": \"sv\", \"name\": \"Svenska\", \"englishName\": \"Swedish\", \"nativeEncoding\": \"iso-8859-1\", \"preferredFont\": \"Lucida Console\", \"latin\": true}, {\"id\": \"ta\", \"name\": \"\\u0ba4\\u0bae\\u0bbf\\u0bb4\\u0bcd\", \"englishName\": \"Tamil\", \"nativeEncoding\": \"utf-8\", \"preferredFont\": \"\", \"latin\": false}, {\"id\": \"th\", \"name\": \"\\u0e44\\u0e17\\u0e22\", \"englishName\": \"Thai\", \"nativeEncoding\": \"iso-8859-11\", \"preferredFont\": \"Tahoma\", \"latin\": false}, {\"id\": \"tr\", \"name\": \"T\\u00fcrk\\u00e7e\", \"englishName\": \"Turkish\", \"nativeEncoding\": \"iso-8859-9\", \"preferredFont\": \"Arial\", \"latin\": true}, {\"id\": \"ur\", \"name\": \"\\u0627\\u0631\\u062f\\u0648\", \"englishName\": \"Urdu\", \"nativeEncoding\": \"iso-8859-6\", \"preferredFont\": \"Arial\", \"latin\": false, \"rightToLeft\": true}, {\"id\": \"vi\", \"name\": \"Ti\\u1ebfng Vi\\u1ec7t\", \"englishName\": \"Vietnamese\", \"nativeEncoding\": \"iso-8859-1\", \"preferredFont\": \"Arial\", \"latin\": true}, {\"id\": \"yue\", \"name\": \"\\u5ee3\\u6771\\u8a71\", \"englishName\": \"Cantonese\", \"nativeEncoding\": \"gb18030\", \"preferredFont\": \"Arial Unicode MS\", \"latin\": false}, {\"id\": \"zh-CN\", \"name\": \"\\u7b80\\u4f53\\u4e2d\\u6587\", \"englishName\": \"Simplified Chinese\", \"nativeEncoding\": \"gb18030\", \"preferredFont\": \"NSimSun\", \"latin\": false}, {\"id\": \"zh-TW\", \"name\": \"\\u7e41\\u9ad4\\u4e2d\\u6587\", \"englishName\": \"Traditional Chinese\", \"nativeEncoding\": \"utf-8\", \"preferredFont\": \"Arial Unicode MS\", \"latin\": false}]))\n",
       "        });\n",
       "        "
      ]
     },
     "metadata": {},
     "output_type": "display_data"
    }
   ],
   "source": [
    "# Чтобы увидеть содержимое, нужно понажимать на + (плюсы)\n",
    "\n",
    "RenderJSON(output_curl_json)"
   ]
  },
  {
   "cell_type": "code",
   "execution_count": 6,
   "metadata": {},
   "outputs": [],
   "source": [
    "with open(\"output_curl.json\", \"w\", encoding=\"utf-8\") as file:\n",
    "    json.dump(output_curl_json, file, indent=2, ensure_ascii=False)"
   ]
  },
  {
   "cell_type": "markdown",
   "metadata": {},
   "source": [
    "В Postman сделал аналогичный запрос (https://api.tisane.ai/languages с базовой авторизацией по ключу), сохранил ответ в файл, запрос заскриншотил тоже в файл. Файлы приложил к ДЗ.\n",
    "\n",
    "Повторяю запрос на Python:"
   ]
  },
  {
   "cell_type": "code",
   "execution_count": 8,
   "metadata": {},
   "outputs": [
    {
     "name": "stdout",
     "output_type": "stream",
     "text": [
      "[{'englishName': 'Arabic',\n",
      "  'id': 'ar',\n",
      "  'latin': False,\n",
      "  'name': 'العربية',\n",
      "  'nativeEncoding': 'iso-8859-6',\n",
      "  'preferredFont': 'Arial',\n",
      "  'rightToLeft': True},\n",
      " {'englishName': 'Danish',\n",
      "  'id': 'da',\n",
      "  'latin': True,\n",
      "  'name': 'Dansk',\n",
      "  'nativeEncoding': 'iso-8859-1',\n",
      "  'preferredFont': 'Calibri'},\n",
      " {'englishName': 'German',\n",
      "  'id': 'de',\n",
      "  'latin': True,\n",
      "  'name': 'Deutsch',\n",
      "  'nativeEncoding': 'iso-8859-1',\n",
      "  'preferredFont': 'Calibri'},\n",
      " {'englishName': 'English',\n",
      "  'id': 'en',\n",
      "  'latin': True,\n",
      "  'name': 'English',\n",
      "  'nativeEncoding': 'iso-8859-1',\n",
      "  'preferredFont': 'Arial',\n",
      "  'systemLanguage': True},\n",
      " {'englishName': 'Spanish',\n",
      "  'id': 'es',\n",
      "  'latin': True,\n",
      "  'name': 'Español',\n",
      "  'nativeEncoding': 'iso-8859-1',\n",
      "  'preferredFont': 'Verdana'},\n",
      " {'englishName': 'Persian',\n",
      "  'id': 'fa',\n",
      "  'latin': False,\n",
      "  'name': 'فارسي',\n",
      "  'nativeEncoding': 'iso-8859-6',\n",
      "  'preferredFont': 'Arial',\n",
      "  'rightToLeft': True},\n",
      " {'englishName': 'Finnish',\n",
      "  'id': 'fi',\n",
      "  'latin': True,\n",
      "  'name': 'suomi',\n",
      "  'nativeEncoding': 'iso-8859-1',\n",
      "  'preferredFont': 'Berlin Sans FB'},\n",
      " {'englishName': 'French',\n",
      "  'id': 'fr',\n",
      "  'latin': True,\n",
      "  'name': 'Français',\n",
      "  'nativeEncoding': 'iso-8859-1',\n",
      "  'preferredFont': 'Arial'},\n",
      " {'englishName': 'Hebrew',\n",
      "  'id': 'he',\n",
      "  'latin': False,\n",
      "  'name': 'עברית',\n",
      "  'nativeEncoding': 'iso-8859-8',\n",
      "  'preferredFont': 'Courier New',\n",
      "  'rightToLeft': True},\n",
      " {'englishName': 'Hindi',\n",
      "  'id': 'hi',\n",
      "  'latin': False,\n",
      "  'name': 'हिन्दी',\n",
      "  'nativeEncoding': 'utf-8',\n",
      "  'preferredFont': ''},\n",
      " {'englishName': 'Indonesian',\n",
      "  'id': 'id',\n",
      "  'latin': True,\n",
      "  'name': 'Bahasa Indonesia',\n",
      "  'nativeEncoding': 'iso-8859-1',\n",
      "  'preferredFont': 'Book Antiqua'},\n",
      " {'englishName': 'Italian',\n",
      "  'id': 'it',\n",
      "  'latin': True,\n",
      "  'name': 'Italiano',\n",
      "  'nativeEncoding': 'iso-8859-1',\n",
      "  'preferredFont': 'Book Antiqua'},\n",
      " {'englishName': 'Japanese',\n",
      "  'id': 'ja',\n",
      "  'latin': False,\n",
      "  'name': '日本語',\n",
      "  'nativeEncoding': 'ISO-2022',\n",
      "  'preferredFont': 'MS Mincho'},\n",
      " {'englishName': 'Korean',\n",
      "  'id': 'ko',\n",
      "  'latin': False,\n",
      "  'name': '한국어',\n",
      "  'nativeEncoding': 'EUC-KR',\n",
      "  'preferredFont': 'Arial Narrow'},\n",
      " {'englishName': 'Malay',\n",
      "  'id': 'ms',\n",
      "  'latin': True,\n",
      "  'name': 'Bahasa Melayu',\n",
      "  'nativeEncoding': 'iso-8859-1',\n",
      "  'preferredFont': 'Calibri'},\n",
      " {'englishName': 'Dutch',\n",
      "  'id': 'nl',\n",
      "  'latin': True,\n",
      "  'name': 'Nederlands',\n",
      "  'nativeEncoding': 'iso-8859-1',\n",
      "  'preferredFont': 'Arial'},\n",
      " {'englishName': 'Norwegian',\n",
      "  'id': 'no',\n",
      "  'latin': True,\n",
      "  'name': 'Norsk',\n",
      "  'nativeEncoding': 'iso-8859-1',\n",
      "  'preferredFont': 'Book Antiqua'},\n",
      " {'englishName': 'Polish',\n",
      "  'id': 'pl',\n",
      "  'latin': True,\n",
      "  'name': 'Polski',\n",
      "  'nativeEncoding': 'iso-8859-2',\n",
      "  'preferredFont': 'Arial'},\n",
      " {'englishName': 'Pashto',\n",
      "  'id': 'ps-AF',\n",
      "  'latin': False,\n",
      "  'name': 'پښتو',\n",
      "  'nativeEncoding': 'iso-8859-6',\n",
      "  'preferredFont': 'Pashto Kror Asiatype',\n",
      "  'rightToLeft': True},\n",
      " {'englishName': 'Portuguese',\n",
      "  'id': 'pt',\n",
      "  'latin': True,\n",
      "  'name': 'Português',\n",
      "  'nativeEncoding': 'iso-8859-1',\n",
      "  'preferredFont': 'Book Antiqua'},\n",
      " {'englishName': 'Russian',\n",
      "  'id': 'ru',\n",
      "  'latin': False,\n",
      "  'name': 'русский',\n",
      "  'nativeEncoding': 'iso-8859-5',\n",
      "  'preferredFont': 'Verdana'},\n",
      " {'englishName': 'Swedish',\n",
      "  'id': 'sv',\n",
      "  'latin': True,\n",
      "  'name': 'Svenska',\n",
      "  'nativeEncoding': 'iso-8859-1',\n",
      "  'preferredFont': 'Lucida Console'},\n",
      " {'englishName': 'Tamil',\n",
      "  'id': 'ta',\n",
      "  'latin': False,\n",
      "  'name': 'தமிழ்',\n",
      "  'nativeEncoding': 'utf-8',\n",
      "  'preferredFont': ''},\n",
      " {'englishName': 'Thai',\n",
      "  'id': 'th',\n",
      "  'latin': False,\n",
      "  'name': 'ไทย',\n",
      "  'nativeEncoding': 'iso-8859-11',\n",
      "  'preferredFont': 'Tahoma'},\n",
      " {'englishName': 'Turkish',\n",
      "  'id': 'tr',\n",
      "  'latin': True,\n",
      "  'name': 'Türkçe',\n",
      "  'nativeEncoding': 'iso-8859-9',\n",
      "  'preferredFont': 'Arial'},\n",
      " {'englishName': 'Urdu',\n",
      "  'id': 'ur',\n",
      "  'latin': False,\n",
      "  'name': 'اردو',\n",
      "  'nativeEncoding': 'iso-8859-6',\n",
      "  'preferredFont': 'Arial',\n",
      "  'rightToLeft': True},\n",
      " {'englishName': 'Vietnamese',\n",
      "  'id': 'vi',\n",
      "  'latin': True,\n",
      "  'name': 'Tiếng Việt',\n",
      "  'nativeEncoding': 'iso-8859-1',\n",
      "  'preferredFont': 'Arial'},\n",
      " {'englishName': 'Cantonese',\n",
      "  'id': 'yue',\n",
      "  'latin': False,\n",
      "  'name': '廣東話',\n",
      "  'nativeEncoding': 'gb18030',\n",
      "  'preferredFont': 'Arial Unicode MS'},\n",
      " {'englishName': 'Simplified Chinese',\n",
      "  'id': 'zh-CN',\n",
      "  'latin': False,\n",
      "  'name': '简体中文',\n",
      "  'nativeEncoding': 'gb18030',\n",
      "  'preferredFont': 'NSimSun'},\n",
      " {'englishName': 'Traditional Chinese',\n",
      "  'id': 'zh-TW',\n",
      "  'latin': False,\n",
      "  'name': '繁體中文',\n",
      "  'nativeEncoding': 'utf-8',\n",
      "  'preferredFont': 'Arial Unicode MS'}]\n"
     ]
    }
   ],
   "source": [
    "import requests\n",
    "from pprint import pprint\n",
    "import json\n",
    "\n",
    "\n",
    "main_link = \"https://api.tisane.ai/languages\"\n",
    "\n",
    "header = {\n",
    "    # Request headers\n",
    "    'Ocp-Apim-Subscription-Key': 'dfe7af659d5746aba683926252f9c073',\n",
    "}\n",
    "\n",
    "\n",
    "req = requests.get(main_link, headers=header)\n",
    "# print(req.ok)\n",
    "if req.ok:\n",
    "    data = json.loads(req.text)\n",
    "    pprint(data)\n",
    "    with open('tisane_python_response.json', 'w', encoding='utf-8') as file:\n",
    "        json.dump(data, file, indent=2, ensure_ascii=False)"
   ]
  },
  {
   "cell_type": "code",
   "execution_count": 11,
   "metadata": {},
   "outputs": [
    {
     "data": {
      "text/html": [
       "<div id=\"7b6cde5a-50c4-419e-89cf-57d75b7a7cc3\" style=\"height: 600px; width:100%;\"></div>"
      ]
     },
     "metadata": {},
     "output_type": "display_data"
    },
    {
     "data": {
      "application/javascript": [
       "\n",
       "        require([\"https://rawgit.com/caldwell/renderjson/master/renderjson.js\"], function() {\n",
       "        document.getElementById('7b6cde5a-50c4-419e-89cf-57d75b7a7cc3').appendChild(renderjson([{\"id\": \"ar\", \"name\": \"\\u0627\\u0644\\u0639\\u0631\\u0628\\u064a\\u0629\", \"englishName\": \"Arabic\", \"nativeEncoding\": \"iso-8859-6\", \"preferredFont\": \"Arial\", \"latin\": false, \"rightToLeft\": true}, {\"id\": \"da\", \"name\": \"Dansk\", \"englishName\": \"Danish\", \"nativeEncoding\": \"iso-8859-1\", \"preferredFont\": \"Calibri\", \"latin\": true}, {\"id\": \"de\", \"name\": \"Deutsch\", \"englishName\": \"German\", \"nativeEncoding\": \"iso-8859-1\", \"preferredFont\": \"Calibri\", \"latin\": true}, {\"id\": \"en\", \"name\": \"English\", \"englishName\": \"English\", \"nativeEncoding\": \"iso-8859-1\", \"preferredFont\": \"Arial\", \"systemLanguage\": true, \"latin\": true}, {\"id\": \"es\", \"name\": \"Espa\\u00f1ol\", \"englishName\": \"Spanish\", \"nativeEncoding\": \"iso-8859-1\", \"preferredFont\": \"Verdana\", \"latin\": true}, {\"id\": \"fa\", \"name\": \"\\u0641\\u0627\\u0631\\u0633\\u064a\", \"englishName\": \"Persian\", \"nativeEncoding\": \"iso-8859-6\", \"preferredFont\": \"Arial\", \"latin\": false, \"rightToLeft\": true}, {\"id\": \"fi\", \"name\": \"suomi\", \"englishName\": \"Finnish\", \"nativeEncoding\": \"iso-8859-1\", \"preferredFont\": \"Berlin Sans FB\", \"latin\": true}, {\"id\": \"fr\", \"name\": \"Fran\\u00e7ais\", \"englishName\": \"French\", \"nativeEncoding\": \"iso-8859-1\", \"preferredFont\": \"Arial\", \"latin\": true}, {\"id\": \"he\", \"name\": \"\\u05e2\\u05d1\\u05e8\\u05d9\\u05ea\", \"englishName\": \"Hebrew\", \"nativeEncoding\": \"iso-8859-8\", \"preferredFont\": \"Courier New\", \"latin\": false, \"rightToLeft\": true}, {\"id\": \"hi\", \"name\": \"\\u0939\\u093f\\u0928\\u094d\\u0926\\u0940\", \"englishName\": \"Hindi\", \"nativeEncoding\": \"utf-8\", \"preferredFont\": \"\", \"latin\": false}, {\"id\": \"id\", \"name\": \"Bahasa Indonesia\", \"englishName\": \"Indonesian\", \"nativeEncoding\": \"iso-8859-1\", \"preferredFont\": \"Book Antiqua\", \"latin\": true}, {\"id\": \"it\", \"name\": \"Italiano\", \"englishName\": \"Italian\", \"nativeEncoding\": \"iso-8859-1\", \"preferredFont\": \"Book Antiqua\", \"latin\": true}, {\"id\": \"ja\", \"name\": \"\\u65e5\\u672c\\u8a9e\", \"englishName\": \"Japanese\", \"nativeEncoding\": \"ISO-2022\", \"preferredFont\": \"MS Mincho\", \"latin\": false}, {\"id\": \"ko\", \"name\": \"\\ud55c\\uad6d\\uc5b4\", \"englishName\": \"Korean\", \"nativeEncoding\": \"EUC-KR\", \"preferredFont\": \"Arial Narrow\", \"latin\": false}, {\"id\": \"ms\", \"name\": \"Bahasa Melayu\", \"englishName\": \"Malay\", \"nativeEncoding\": \"iso-8859-1\", \"preferredFont\": \"Calibri\", \"latin\": true}, {\"id\": \"nl\", \"name\": \"Nederlands\", \"englishName\": \"Dutch\", \"nativeEncoding\": \"iso-8859-1\", \"preferredFont\": \"Arial\", \"latin\": true}, {\"id\": \"no\", \"name\": \"Norsk\", \"englishName\": \"Norwegian\", \"nativeEncoding\": \"iso-8859-1\", \"preferredFont\": \"Book Antiqua\", \"latin\": true}, {\"id\": \"pl\", \"name\": \"Polski\", \"englishName\": \"Polish\", \"nativeEncoding\": \"iso-8859-2\", \"preferredFont\": \"Arial\", \"latin\": true}, {\"id\": \"ps-AF\", \"name\": \"\\u067e\\u069a\\u062a\\u0648\", \"englishName\": \"Pashto\", \"nativeEncoding\": \"iso-8859-6\", \"preferredFont\": \"Pashto Kror Asiatype\", \"latin\": false, \"rightToLeft\": true}, {\"id\": \"pt\", \"name\": \"Portugu\\u00eas\", \"englishName\": \"Portuguese\", \"nativeEncoding\": \"iso-8859-1\", \"preferredFont\": \"Book Antiqua\", \"latin\": true}, {\"id\": \"ru\", \"name\": \"\\u0440\\u0443\\u0441\\u0441\\u043a\\u0438\\u0439\", \"englishName\": \"Russian\", \"nativeEncoding\": \"iso-8859-5\", \"preferredFont\": \"Verdana\", \"latin\": false}, {\"id\": \"sv\", \"name\": \"Svenska\", \"englishName\": \"Swedish\", \"nativeEncoding\": \"iso-8859-1\", \"preferredFont\": \"Lucida Console\", \"latin\": true}, {\"id\": \"ta\", \"name\": \"\\u0ba4\\u0bae\\u0bbf\\u0bb4\\u0bcd\", \"englishName\": \"Tamil\", \"nativeEncoding\": \"utf-8\", \"preferredFont\": \"\", \"latin\": false}, {\"id\": \"th\", \"name\": \"\\u0e44\\u0e17\\u0e22\", \"englishName\": \"Thai\", \"nativeEncoding\": \"iso-8859-11\", \"preferredFont\": \"Tahoma\", \"latin\": false}, {\"id\": \"tr\", \"name\": \"T\\u00fcrk\\u00e7e\", \"englishName\": \"Turkish\", \"nativeEncoding\": \"iso-8859-9\", \"preferredFont\": \"Arial\", \"latin\": true}, {\"id\": \"ur\", \"name\": \"\\u0627\\u0631\\u062f\\u0648\", \"englishName\": \"Urdu\", \"nativeEncoding\": \"iso-8859-6\", \"preferredFont\": \"Arial\", \"latin\": false, \"rightToLeft\": true}, {\"id\": \"vi\", \"name\": \"Ti\\u1ebfng Vi\\u1ec7t\", \"englishName\": \"Vietnamese\", \"nativeEncoding\": \"iso-8859-1\", \"preferredFont\": \"Arial\", \"latin\": true}, {\"id\": \"yue\", \"name\": \"\\u5ee3\\u6771\\u8a71\", \"englishName\": \"Cantonese\", \"nativeEncoding\": \"gb18030\", \"preferredFont\": \"Arial Unicode MS\", \"latin\": false}, {\"id\": \"zh-CN\", \"name\": \"\\u7b80\\u4f53\\u4e2d\\u6587\", \"englishName\": \"Simplified Chinese\", \"nativeEncoding\": \"gb18030\", \"preferredFont\": \"NSimSun\", \"latin\": false}, {\"id\": \"zh-TW\", \"name\": \"\\u7e41\\u9ad4\\u4e2d\\u6587\", \"englishName\": \"Traditional Chinese\", \"nativeEncoding\": \"utf-8\", \"preferredFont\": \"Arial Unicode MS\", \"latin\": false}]))\n",
       "        });\n",
       "        "
      ]
     },
     "metadata": {},
     "output_type": "display_data"
    }
   ],
   "source": [
    "RenderJSON(json.dumps(data))"
   ]
  },
  {
   "cell_type": "code",
   "execution_count": null,
   "metadata": {},
   "outputs": [],
   "source": []
  }
 ],
 "metadata": {
  "kernelspec": {
   "display_name": "Python 3",
   "language": "python",
   "name": "python3"
  },
  "language_info": {
   "codemirror_mode": {
    "name": "ipython",
    "version": 3
   },
   "file_extension": ".py",
   "mimetype": "text/x-python",
   "name": "python",
   "nbconvert_exporter": "python",
   "pygments_lexer": "ipython3",
   "version": "3.7.1"
  }
 },
 "nbformat": 4,
 "nbformat_minor": 2
}
